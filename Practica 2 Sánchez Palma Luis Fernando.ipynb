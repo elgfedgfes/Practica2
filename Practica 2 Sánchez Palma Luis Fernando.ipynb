{
 "cells": [
  {
   "cell_type": "markdown",
   "metadata": {},
   "source": [
    "# Práctica 2  Por Sánchez Palma Luis Fernando\n",
    "## Estimación de tamaño de una base de datos"
   ]
  },
  {
   "cell_type": "markdown",
   "metadata": {},
   "source": [
    "## Creación de un porgrama para calcular el tamaño de una base de datos establecida.\n",
    " Para la estimación del tamaño de la base de datos primero tuvimos que definir las constantes y su valor en bytes.\n",
    " ## Tomando como referencia la siguiente tabla:\n",
    "\n",
    "<img src=\"https://doc-00-a4-docs.googleusercontent.com/docs/securesc/reubdk6pp1r9mrbs71mjbb87o6qnt0qk/s07j7966kj6cit0bgkef4d97pgt3b13s/1569823200000/03576513770871805724/03576513770871805724/1HL_gBBIJlL4pIF6BHIlwAlWAqPSiLLb-?e=download\" width= \"900\">"
   ]
  },
  {
   "cell_type": "markdown",
   "metadata": {},
   "source": [
    "### Tenemos lo siguiente\n",
    "* **ID** es Int = 4 bytes\n",
    "* **Nombre del Hospital** es String = 8 bytes\n",
    "* **Dirección** es String = 8 bytes\n",
    "* **Servicio** es String = 8 bytes\n",
    "* **Num. Trabajadores** es entero = 4 bytes\n",
    "* **Especialidad** es String = 8 bytes\n",
    "* **Horarios** es entero = 4 bytes\n",
    "* **Num. Pacientes** es entero = 4 bytes\n",
    "* **Num. Camas** es entero = 4 bytes\n",
    "* **Num. Salas** es entero = 4 bytes\n",
    "* **Num. Elevadores** es entero = 4 bytes\n",
    "* **Num. Edificios** es entero = 4 bytes\n",
    "* **Num. Extensión** es entero = 4 bytes\n",
    "* **Teléfono** es String = 8 bytes\n",
    "* **Correo** es String = 8 bytes\n",
    "* **Pagina Web** es String = 8 bytes\n",
    "* **Nombre Director** es String = 8 bytes\n",
    "* **Ranking** es entero = 4 bytes\n",
    "* **Fecha Apertura** es String = 8 bytes\n"
   ]
  },
  {
   "cell_type": "markdown",
   "metadata": {},
   "source": [
    "* Para calcular el tamaño de una fila:\n",
    "(***cantidad de datos tipo int***) + (***cantidad de datos tipo strings***)\n",
    "* Para calcular el tamaño de una pagina:\n",
    "(***tamaño de una fila***) * (***cantidad de filas por pagina***)\n",
    "* Para calcular el tamaño de la base de datos:\n",
    "(***tamaño de una pagina***) * (***num. de paginas***)"
   ]
  },
  {
   "cell_type": "markdown",
   "metadata": {},
   "source": [
    " ## La definición del programa es el siguiente:\n",
    " <img src=\"https://doc-0k-a4-docs.googleusercontent.com/docs/securesc/reubdk6pp1r9mrbs71mjbb87o6qnt0qk/76uuukm5naft14cl8fklig6urn2k8d81/1569830400000/03576513770871805724/03576513770871805724/1QlZBBeiMRM1LIcwJDnJrkKsTkpXPDoLL?e=download\" width= \"900\">"
   ]
  },
  {
   "cell_type": "markdown",
   "metadata": {},
   "source": [
    " ## El resultado es:\n",
    " <img src=\"https://doc-0s-a4-docs.googleusercontent.com/docs/securesc/reubdk6pp1r9mrbs71mjbb87o6qnt0qk/idps15hrcs9herngelnjotlkt2v0e3am/1569830400000/03576513770871805724/03576513770871805724/1R327JnQZzTQrLKPrtT0q_kB3kPcs9MoB?e=download\" width= \"900\">"
   ]
  },
  {
   "cell_type": "markdown",
   "metadata": {},
   "source": []
  }
 ],
 "metadata": {
  "kernelspec": {
   "display_name": "Python 3",
   "language": "python",
   "name": "python3"
  },
  "language_info": {
   "codemirror_mode": {
    "name": "ipython",
    "version": 3
   },
   "file_extension": ".py",
   "mimetype": "text/x-python",
   "name": "python",
   "nbconvert_exporter": "python",
   "pygments_lexer": "ipython3",
   "version": "3.7.3"
  }
 },
 "nbformat": 4,
 "nbformat_minor": 2
}
